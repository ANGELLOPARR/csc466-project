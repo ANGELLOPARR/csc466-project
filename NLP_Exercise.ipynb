{
  "nbformat": 4,
  "nbformat_minor": 0,
  "metadata": {
    "colab": {
      "name": "Untitled",
      "provenance": [],
      "include_colab_link": true
    },
    "kernelspec": {
      "name": "python3",
      "display_name": "Python 3"
    },
    "language_info": {
      "name": "python"
    }
  },
  "cells": [
    {
      "cell_type": "markdown",
      "metadata": {
        "id": "view-in-github",
        "colab_type": "text"
      },
      "source": [
        "<a href=\"https://colab.research.google.com/github/ANGELLOPARR/csc466-project/blob/main/NLP_Exercise.ipynb\" target=\"_parent\"><img src=\"https://colab.research.google.com/assets/colab-badge.svg\" alt=\"Open In Colab\"/></a>"
      ]
    },
    {
      "cell_type": "code",
      "metadata": {
        "id": "Qnpl0yA5mnQU",
        "colab": {
          "base_uri": "https://localhost:8080/"
        },
        "outputId": "4b9c0ad9-ebd3-448c-8ff8-6e4a8d155924"
      },
      "source": [
        "import nltk\n",
        "import spacy\n",
        "nltk.download('punkt')\n",
        "from nltk.stem import PorterStemmer\n",
        "from nltk.tokenize import sent_tokenize, word_tokenize\n",
        "from sklearn.feature_extraction.text import TfidfVectorizer\n",
        "\n",
        "!python -m spacy download en_core_web_sm\n",
        "nlp = spacy.load(\"en_core_web_sm\")"
      ],
      "execution_count": 39,
      "outputs": [
        {
          "output_type": "stream",
          "text": [
            "[nltk_data] Downloading package punkt to /root/nltk_data...\n",
            "[nltk_data]   Package punkt is already up-to-date!\n",
            "Requirement already satisfied: en_core_web_sm==2.2.5 from https://github.com/explosion/spacy-models/releases/download/en_core_web_sm-2.2.5/en_core_web_sm-2.2.5.tar.gz#egg=en_core_web_sm==2.2.5 in /usr/local/lib/python3.7/dist-packages (2.2.5)\n",
            "Requirement already satisfied: spacy>=2.2.2 in /usr/local/lib/python3.7/dist-packages (from en_core_web_sm==2.2.5) (2.2.4)\n",
            "Requirement already satisfied: wasabi<1.1.0,>=0.4.0 in /usr/local/lib/python3.7/dist-packages (from spacy>=2.2.2->en_core_web_sm==2.2.5) (0.8.2)\n",
            "Requirement already satisfied: setuptools in /usr/local/lib/python3.7/dist-packages (from spacy>=2.2.2->en_core_web_sm==2.2.5) (57.0.0)\n",
            "Requirement already satisfied: requests<3.0.0,>=2.13.0 in /usr/local/lib/python3.7/dist-packages (from spacy>=2.2.2->en_core_web_sm==2.2.5) (2.23.0)\n",
            "Requirement already satisfied: tqdm<5.0.0,>=4.38.0 in /usr/local/lib/python3.7/dist-packages (from spacy>=2.2.2->en_core_web_sm==2.2.5) (4.41.1)\n",
            "Requirement already satisfied: cymem<2.1.0,>=2.0.2 in /usr/local/lib/python3.7/dist-packages (from spacy>=2.2.2->en_core_web_sm==2.2.5) (2.0.5)\n",
            "Requirement already satisfied: plac<1.2.0,>=0.9.6 in /usr/local/lib/python3.7/dist-packages (from spacy>=2.2.2->en_core_web_sm==2.2.5) (1.1.3)\n",
            "Requirement already satisfied: catalogue<1.1.0,>=0.0.7 in /usr/local/lib/python3.7/dist-packages (from spacy>=2.2.2->en_core_web_sm==2.2.5) (1.0.0)\n",
            "Requirement already satisfied: numpy>=1.15.0 in /usr/local/lib/python3.7/dist-packages (from spacy>=2.2.2->en_core_web_sm==2.2.5) (1.19.5)\n",
            "Requirement already satisfied: thinc==7.4.0 in /usr/local/lib/python3.7/dist-packages (from spacy>=2.2.2->en_core_web_sm==2.2.5) (7.4.0)\n",
            "Requirement already satisfied: preshed<3.1.0,>=3.0.2 in /usr/local/lib/python3.7/dist-packages (from spacy>=2.2.2->en_core_web_sm==2.2.5) (3.0.5)\n",
            "Requirement already satisfied: blis<0.5.0,>=0.4.0 in /usr/local/lib/python3.7/dist-packages (from spacy>=2.2.2->en_core_web_sm==2.2.5) (0.4.1)\n",
            "Requirement already satisfied: srsly<1.1.0,>=1.0.2 in /usr/local/lib/python3.7/dist-packages (from spacy>=2.2.2->en_core_web_sm==2.2.5) (1.0.5)\n",
            "Requirement already satisfied: murmurhash<1.1.0,>=0.28.0 in /usr/local/lib/python3.7/dist-packages (from spacy>=2.2.2->en_core_web_sm==2.2.5) (1.0.5)\n",
            "Requirement already satisfied: urllib3!=1.25.0,!=1.25.1,<1.26,>=1.21.1 in /usr/local/lib/python3.7/dist-packages (from requests<3.0.0,>=2.13.0->spacy>=2.2.2->en_core_web_sm==2.2.5) (1.24.3)\n",
            "Requirement already satisfied: idna<3,>=2.5 in /usr/local/lib/python3.7/dist-packages (from requests<3.0.0,>=2.13.0->spacy>=2.2.2->en_core_web_sm==2.2.5) (2.10)\n",
            "Requirement already satisfied: chardet<4,>=3.0.2 in /usr/local/lib/python3.7/dist-packages (from requests<3.0.0,>=2.13.0->spacy>=2.2.2->en_core_web_sm==2.2.5) (3.0.4)\n",
            "Requirement already satisfied: certifi>=2017.4.17 in /usr/local/lib/python3.7/dist-packages (from requests<3.0.0,>=2.13.0->spacy>=2.2.2->en_core_web_sm==2.2.5) (2020.12.5)\n",
            "Requirement already satisfied: importlib-metadata>=0.20; python_version < \"3.8\" in /usr/local/lib/python3.7/dist-packages (from catalogue<1.1.0,>=0.0.7->spacy>=2.2.2->en_core_web_sm==2.2.5) (4.0.1)\n",
            "Requirement already satisfied: typing-extensions>=3.6.4; python_version < \"3.8\" in /usr/local/lib/python3.7/dist-packages (from importlib-metadata>=0.20; python_version < \"3.8\"->catalogue<1.1.0,>=0.0.7->spacy>=2.2.2->en_core_web_sm==2.2.5) (3.7.4.3)\n",
            "Requirement already satisfied: zipp>=0.5 in /usr/local/lib/python3.7/dist-packages (from importlib-metadata>=0.20; python_version < \"3.8\"->catalogue<1.1.0,>=0.0.7->spacy>=2.2.2->en_core_web_sm==2.2.5) (3.4.1)\n",
            "\u001b[38;5;2m✔ Download and installation successful\u001b[0m\n",
            "You can now load the model via spacy.load('en_core_web_sm')\n"
          ],
          "name": "stdout"
        }
      ]
    },
    {
      "cell_type": "code",
      "metadata": {
        "id": "RXuG7uxciWAy",
        "colab": {
          "base_uri": "https://localhost:8080/"
        },
        "outputId": "bc535fae-d0a3-4267-b691-7a6b20eca7c2"
      },
      "source": [
        "!rm -r csc466-project\n",
        "!git clone https://github.com/ANGELLOPARR/csc466-project.git"
      ],
      "execution_count": 30,
      "outputs": [
        {
          "output_type": "stream",
          "text": [
            "Cloning into 'csc466-project'...\n",
            "remote: Enumerating objects: 77, done.\u001b[K\n",
            "remote: Counting objects: 100% (77/77), done.\u001b[K\n",
            "remote: Compressing objects: 100% (71/71), done.\u001b[K\n",
            "remote: Total 77 (delta 30), reused 25 (delta 4), pack-reused 0\u001b[K\n",
            "Unpacking objects: 100% (77/77), done.\n"
          ],
          "name": "stdout"
        }
      ]
    },
    {
      "cell_type": "code",
      "metadata": {
        "id": "qISnP5cXbdTZ",
        "colab": {
          "base_uri": "https://localhost:8080/",
          "height": 103
        },
        "outputId": "d67a4789-6c67-4637-c0a1-50e989e0fc30"
      },
      "source": [
        "import numpy as np # linear algebra\n",
        "import pandas as pd # data processing, CSV file I/O (e.g. pd.read_csv)\n",
        "\n",
        "dataset = pd.read_csv(r'csc466-project/emails.csv')\n",
        "dataset .columns #Index(['text', 'spam'], dtype='object')\n",
        "dataset.shape  #(5728, 2)\n",
        "dataset.iloc[-1]['text']"
      ],
      "execution_count": 31,
      "outputs": [
        {
          "output_type": "execute_result",
          "data": {
            "application/vnd.google.colaboratory.intrinsic+json": {
              "type": "string"
            },
            "text/plain": [
              "'Subject: news : aurora 5 . 2 update  aurora version 5 . 2  - the fastest model just got faster -  epis announces the release of aurora , version 5 . 2  aurora the electric market price forecasting tool is already  legendary for power and speed . we \\' ve combined a powerful chronological  dispatch model with the capability to simulate the market from 1  day to 25 + years . add to that a risk analysis section , powered by user  selectable monte carlo & / or latin hypercube modeling , enough  portfolio analysis power to please the toughest critic , & inputs and  outputs from standard excel & access tables and you \\' ve got one of most  powerful tools in the market .  just a few months ago we expanded our emissions modeling  capabilities , added our quarterly database update , increased the speed  of the entire model , and made  but that wasn \\' t enough .  we \\' ve done it again . some of the operations that we \\' ve  included . . .  two new reporting enhancements .  the first is marginal reporting  for fuels , resources and groups of resources .  the second is the ability to  display resource stack information in graphical and dispatch order form .  other enhancements include dual fuel modeling , improved  transmission modeling , greater access to hourly results , and the ability  to model monthly emission rates . moreover , the databases for  central and eastern , texas , and western markets have been updated to use  the new modeling capabilities .  we continue to make aurora easier to use . this version enhances  user control over modeling , editing inputs , and viewing of aurora  output . clients desiring to exploit the power of aurora now have  greater control over the inputs and outputs through vb scripting in  aurora . the new \" update data \" capability provides a means to  universally change any data element .  attached is more information on the fastest and most flexible  tool of its kind .  for additional information , please visit our website ( www . epis . com ) or  contact our sales department at ( 503 ) 722 - 2023 . ask about our special  7 - day demo !  v . todd wheeler  sales manager  epis , inc .  ( 503 ) 722 - 2023 tel .  ( 503 ) 722 - 7130 fax  www . epis . com  todd @ epis . com  > >  - what \\' s new - version 5 . 2 information . doc  - technical information aurora v 5 - 2 . doc'"
            ]
          },
          "metadata": {
            "tags": []
          },
          "execution_count": 31
        }
      ]
    },
    {
      "cell_type": "markdown",
      "metadata": {
        "id": "CTuYpAqBlJxO"
      },
      "source": [
        "Data cleanup"
      ]
    },
    {
      "cell_type": "code",
      "metadata": {
        "id": "A6XgbIR-kxZf",
        "colab": {
          "base_uri": "https://localhost:8080/",
          "height": 419
        },
        "outputId": "7f313734-c0e9-4ef6-c33c-b95c46375d88"
      },
      "source": [
        "dataset['text'] = dataset['text'].str.replace('Subject: ', '')\n",
        "dataset"
      ],
      "execution_count": 32,
      "outputs": [
        {
          "output_type": "execute_result",
          "data": {
            "text/html": [
              "<div>\n",
              "<style scoped>\n",
              "    .dataframe tbody tr th:only-of-type {\n",
              "        vertical-align: middle;\n",
              "    }\n",
              "\n",
              "    .dataframe tbody tr th {\n",
              "        vertical-align: top;\n",
              "    }\n",
              "\n",
              "    .dataframe thead th {\n",
              "        text-align: right;\n",
              "    }\n",
              "</style>\n",
              "<table border=\"1\" class=\"dataframe\">\n",
              "  <thead>\n",
              "    <tr style=\"text-align: right;\">\n",
              "      <th></th>\n",
              "      <th>text</th>\n",
              "      <th>spam</th>\n",
              "    </tr>\n",
              "  </thead>\n",
              "  <tbody>\n",
              "    <tr>\n",
              "      <th>0</th>\n",
              "      <td>naturally irresistible your corporate identity...</td>\n",
              "      <td>1</td>\n",
              "    </tr>\n",
              "    <tr>\n",
              "      <th>1</th>\n",
              "      <td>the stock trading gunslinger  fanny is merrill...</td>\n",
              "      <td>1</td>\n",
              "    </tr>\n",
              "    <tr>\n",
              "      <th>2</th>\n",
              "      <td>unbelievable new homes made easy  im wanting t...</td>\n",
              "      <td>1</td>\n",
              "    </tr>\n",
              "    <tr>\n",
              "      <th>3</th>\n",
              "      <td>4 color printing special  request additional i...</td>\n",
              "      <td>1</td>\n",
              "    </tr>\n",
              "    <tr>\n",
              "      <th>4</th>\n",
              "      <td>do not have money , get software cds from here...</td>\n",
              "      <td>1</td>\n",
              "    </tr>\n",
              "    <tr>\n",
              "      <th>...</th>\n",
              "      <td>...</td>\n",
              "      <td>...</td>\n",
              "    </tr>\n",
              "    <tr>\n",
              "      <th>5723</th>\n",
              "      <td>re : research and development charges to gpg  ...</td>\n",
              "      <td>0</td>\n",
              "    </tr>\n",
              "    <tr>\n",
              "      <th>5724</th>\n",
              "      <td>re : receipts from visit  jim ,  thanks again ...</td>\n",
              "      <td>0</td>\n",
              "    </tr>\n",
              "    <tr>\n",
              "      <th>5725</th>\n",
              "      <td>re : enron case study update  wow ! all on the...</td>\n",
              "      <td>0</td>\n",
              "    </tr>\n",
              "    <tr>\n",
              "      <th>5726</th>\n",
              "      <td>re : interest  david ,  please , call shirley ...</td>\n",
              "      <td>0</td>\n",
              "    </tr>\n",
              "    <tr>\n",
              "      <th>5727</th>\n",
              "      <td>news : aurora 5 . 2 update  aurora version 5 ....</td>\n",
              "      <td>0</td>\n",
              "    </tr>\n",
              "  </tbody>\n",
              "</table>\n",
              "<p>5728 rows × 2 columns</p>\n",
              "</div>"
            ],
            "text/plain": [
              "                                                   text  spam\n",
              "0     naturally irresistible your corporate identity...     1\n",
              "1     the stock trading gunslinger  fanny is merrill...     1\n",
              "2     unbelievable new homes made easy  im wanting t...     1\n",
              "3     4 color printing special  request additional i...     1\n",
              "4     do not have money , get software cds from here...     1\n",
              "...                                                 ...   ...\n",
              "5723  re : research and development charges to gpg  ...     0\n",
              "5724  re : receipts from visit  jim ,  thanks again ...     0\n",
              "5725  re : enron case study update  wow ! all on the...     0\n",
              "5726  re : interest  david ,  please , call shirley ...     0\n",
              "5727  news : aurora 5 . 2 update  aurora version 5 ....     0\n",
              "\n",
              "[5728 rows x 2 columns]"
            ]
          },
          "metadata": {
            "tags": []
          },
          "execution_count": 32
        }
      ]
    },
    {
      "cell_type": "code",
      "metadata": {
        "id": "ZZYvrzyRmtMr"
      },
      "source": [
        "def stem_text(text):\n",
        "    stemmer = PorterStemmer()\n",
        "    tokenized = nltk.word_tokenize(text)\n",
        "    stemmed = [stemmer.stem(word) for word in tokenized]\n",
        "    return ' '.join(stemmed)"
      ],
      "execution_count": 33,
      "outputs": []
    },
    {
      "cell_type": "code",
      "metadata": {
        "id": "MYsiVIqBlvJw",
        "colab": {
          "base_uri": "https://localhost:8080/",
          "height": 103
        },
        "outputId": "c38b0145-4020-48c6-db93-c94664fecb17"
      },
      "source": [
        "stem_text(dataset.iloc[0]['text'])"
      ],
      "execution_count": 34,
      "outputs": [
        {
          "output_type": "execute_result",
          "data": {
            "application/vnd.google.colaboratory.intrinsic+json": {
              "type": "string"
            },
            "text/plain": [
              "\"natur irresist your corpor ident lt is realli hard to recollect a compani : the market is full of suqgest and the inform isoverwhelminq ; but a good catchi logo , stylish statloneri and outstand websit will make the task much easier . we do not promis that havinq order a iogo your compani will automaticaili becom a world ieader : it isguit ciear that without good product , effect busi organ and practic aim it will be hotat nowaday market ; but we do promis that your market effort will becom much more effect . here is the list of clear benefit : creativ : hand - made , origin logo , special done to reflect your distinct compani imag . conveni : logo and stationeri are provid in all format ; easi - to - use content manag system letsyou chang your websit content and even it structur . prompt : you will see logo draft within three busi day . afford : your market break - through shouldn ' t make gap in your budget . 100 % satisfact guarante : we provid unlimit amount of chang with no extra fee for you to be surethat you will love the result of thi collabor . have a look at our portfolio _ _ _ _ _ _ _ _ _ _ _ _ _ _ _ _ _ _ _ _ _ _ _ _ _ _ _ _ _ _ _ _ _ _ _ _ _ _ _ _ _ _ _ _ _ _ _ _ _ _ _ _ not interest . . . _ _ _ _ _ _ _ _ _ _ _ _ _ _ _ _ _ _ _ _ _ _ _ _ _ _ _ _ _ _ _ _ _ _ _ _ _ _ _ _ _ _ _ _ _ _ _ _ _ _ _ _\""
            ]
          },
          "metadata": {
            "tags": []
          },
          "execution_count": 34
        }
      ]
    },
    {
      "cell_type": "code",
      "metadata": {
        "id": "oFgCCRmawGGQ"
      },
      "source": [
        "def lemmatize_text(text):\n",
        "  doc = nlp(text)\n",
        "\n",
        "  lemmed = [token.lemma_ if token.lemma_ != '-PRON-' else token.text for token in doc]\n",
        "  return ' '.join(lemmed)"
      ],
      "execution_count": 35,
      "outputs": []
    },
    {
      "cell_type": "code",
      "metadata": {
        "id": "MX-zO1c5x6o-",
        "colab": {
          "base_uri": "https://localhost:8080/",
          "height": 103
        },
        "outputId": "67ee3f26-17db-484f-a1a3-8482b1347c07"
      },
      "source": [
        "lemmatize_text(dataset.iloc[0]['text'])"
      ],
      "execution_count": 36,
      "outputs": [
        {
          "output_type": "execute_result",
          "data": {
            "application/vnd.google.colaboratory.intrinsic+json": {
              "type": "string"
            },
            "text/plain": [
              "\"naturally irresistible your corporate identity   lt be really hard to recollect a company : the   market be full of suqgestion and the information isoverwhelminq ; but a good   catchy logo , stylish statlonery and outstanding website   will make the task much easy .   we do not promise that havinq order a iogo your   company will automaticaily become a world ieader : it isguite ciear that   without good product , effective business organization and practicable aim it   will be hotat nowadays market ; but we do promise that your marketing effort   will become much more effective . here be the list of clear   benefit : creativeness : hand - make , original logo , specially do   to reflect your distinctive company image . convenience : logo and stationery   be provide in all format ; easy - to - use content management system letsyou   change your website content and even its structure . promptness : you   will see logo draft within three business day . affordability : your   marketing break - through shouldn ' t make gap in your budget . 100 % satisfaction   guarantee : we provide unlimited amount of change with no extra fee for you to   be surethat you will love the result of this collaboration . have a look at our   portfolio _ _ _ _ _ _ _ _ _ _ _ _ _ _ _ _ _ _ _ _ _ _ _ _ _ _ _ _ _ _ _ _ _ _ _ _ _ _ _ _ _ _ _ _ _ _ _ _ _ _ _ _ not interested . . . _ _ _ _ _ _ _ _ _ _ _ _ _ _ _ _ _ _ _ _ _ _ _ _ _ _ _ _ _ _ _ _ _ _ _ _ _ _ _ _ _ _ _ _ _ _ _ _ _ _ _ _\""
            ]
          },
          "metadata": {
            "tags": []
          },
          "execution_count": 36
        }
      ]
    },
    {
      "cell_type": "code",
      "metadata": {
        "id": "B5sdcXLQx9zD"
      },
      "source": [
        "corpus = dataset['text'].values\n",
        "stemmed_corpus = [stem_text(document) for document in corpus]\n",
        "lemmed_corpus = [lemmatize_text(document) for document in corpus]"
      ],
      "execution_count": null,
      "outputs": []
    },
    {
      "cell_type": "code",
      "metadata": {
        "id": "xuwG8kgV1sfg"
      },
      "source": [
        "stemmed_df = dataset.copy(deep=True)\n",
        "stemmed_df['stemmed'] = stemmed_corpus\n",
        "stemmed_df.drop(['text'], axis=1, inplace=True)\n",
        "\n",
        "training_stemmed = stemmed_df['stemmed']\n",
        "testing_stemmed = stemmed_df['spam']"
      ],
      "execution_count": 56,
      "outputs": []
    },
    {
      "cell_type": "code",
      "metadata": {
        "id": "i90ro4ot5eXm"
      },
      "source": [
        "lemmed_df = dataset.copy(deep=True)\n",
        "lemmed_df['lemmed'] = lemmed_corpus\n",
        "lemmed_df.drop(['text'], axis=1, inplace=True)\n",
        "\n",
        "training_lemmed = lemmed_df['lemmed']\n",
        "testing_lemmed = lemmed_df['spam']"
      ],
      "execution_count": 57,
      "outputs": []
    },
    {
      "cell_type": "code",
      "metadata": {
        "id": "JCmUP9Zj5j3F"
      },
      "source": [
        "stemmed_vectorizer = TfidfVectorizer(stop_words='english')\n",
        "stemmed_vectorizer.fit(training_stemmed)\n",
        "X_stemmed = stemmed_vectorizer.transform(training_stemmed, testing_stemmed)"
      ],
      "execution_count": 46,
      "outputs": []
    },
    {
      "cell_type": "code",
      "metadata": {
        "id": "2e9WRo2a5zbH"
      },
      "source": [
        "lemmed_vectorizer = TfidfVectorizer(stop_words='english')\n",
        "Y = lemmed_vectorizer.fit_transform(lemmed_corpus)"
      ],
      "execution_count": 48,
      "outputs": []
    },
    {
      "cell_type": "code",
      "metadata": {
        "id": "Ho0gJX_96yeS",
        "outputId": "e3d365d5-9681-458f-d35b-b3eaf72ef4c3",
        "colab": {
          "base_uri": "https://localhost:8080/",
          "height": 419
        }
      },
      "source": [
        ""
      ],
      "execution_count": 55,
      "outputs": [
        {
          "output_type": "display_data",
          "data": {
            "text/html": [
              "<div>\n",
              "<style scoped>\n",
              "    .dataframe tbody tr th:only-of-type {\n",
              "        vertical-align: middle;\n",
              "    }\n",
              "\n",
              "    .dataframe tbody tr th {\n",
              "        vertical-align: top;\n",
              "    }\n",
              "\n",
              "    .dataframe thead th {\n",
              "        text-align: right;\n",
              "    }\n",
              "</style>\n",
              "<table border=\"1\" class=\"dataframe\">\n",
              "  <thead>\n",
              "    <tr style=\"text-align: right;\">\n",
              "      <th></th>\n",
              "      <th>text</th>\n",
              "      <th>spam</th>\n",
              "      <th>lemmed</th>\n",
              "    </tr>\n",
              "  </thead>\n",
              "  <tbody>\n",
              "    <tr>\n",
              "      <th>0</th>\n",
              "      <td>naturally irresistible your corporate identity...</td>\n",
              "      <td>1</td>\n",
              "      <td>naturally irresistible your corporate identity...</td>\n",
              "    </tr>\n",
              "    <tr>\n",
              "      <th>1</th>\n",
              "      <td>the stock trading gunslinger  fanny is merrill...</td>\n",
              "      <td>1</td>\n",
              "      <td>the stock trading gunslinger   fanny be merril...</td>\n",
              "    </tr>\n",
              "    <tr>\n",
              "      <th>2</th>\n",
              "      <td>unbelievable new homes made easy  im wanting t...</td>\n",
              "      <td>1</td>\n",
              "      <td>unbelievable new home make easy   i be want to...</td>\n",
              "    </tr>\n",
              "    <tr>\n",
              "      <th>3</th>\n",
              "      <td>4 color printing special  request additional i...</td>\n",
              "      <td>1</td>\n",
              "      <td>4 color printing special   request additional ...</td>\n",
              "    </tr>\n",
              "    <tr>\n",
              "      <th>4</th>\n",
              "      <td>do not have money , get software cds from here...</td>\n",
              "      <td>1</td>\n",
              "      <td>do not have money , get software cd from here ...</td>\n",
              "    </tr>\n",
              "    <tr>\n",
              "      <th>...</th>\n",
              "      <td>...</td>\n",
              "      <td>...</td>\n",
              "      <td>...</td>\n",
              "    </tr>\n",
              "    <tr>\n",
              "      <th>5723</th>\n",
              "      <td>re : research and development charges to gpg  ...</td>\n",
              "      <td>0</td>\n",
              "      <td>re : research and development charge to gpg   ...</td>\n",
              "    </tr>\n",
              "    <tr>\n",
              "      <th>5724</th>\n",
              "      <td>re : receipts from visit  jim ,  thanks again ...</td>\n",
              "      <td>0</td>\n",
              "      <td>re : receipt from visit   jim ,   thank again ...</td>\n",
              "    </tr>\n",
              "    <tr>\n",
              "      <th>5725</th>\n",
              "      <td>re : enron case study update  wow ! all on the...</td>\n",
              "      <td>0</td>\n",
              "      <td>re : enron case study update   wow ! all on th...</td>\n",
              "    </tr>\n",
              "    <tr>\n",
              "      <th>5726</th>\n",
              "      <td>re : interest  david ,  please , call shirley ...</td>\n",
              "      <td>0</td>\n",
              "      <td>re : interest   david ,   please , call shirle...</td>\n",
              "    </tr>\n",
              "    <tr>\n",
              "      <th>5727</th>\n",
              "      <td>news : aurora 5 . 2 update  aurora version 5 ....</td>\n",
              "      <td>0</td>\n",
              "      <td>news : aurora 5 . 2 update   aurora version 5 ...</td>\n",
              "    </tr>\n",
              "  </tbody>\n",
              "</table>\n",
              "<p>5728 rows × 3 columns</p>\n",
              "</div>"
            ],
            "text/plain": [
              "                                                   text  ...                                             lemmed\n",
              "0     naturally irresistible your corporate identity...  ...  naturally irresistible your corporate identity...\n",
              "1     the stock trading gunslinger  fanny is merrill...  ...  the stock trading gunslinger   fanny be merril...\n",
              "2     unbelievable new homes made easy  im wanting t...  ...  unbelievable new home make easy   i be want to...\n",
              "3     4 color printing special  request additional i...  ...  4 color printing special   request additional ...\n",
              "4     do not have money , get software cds from here...  ...  do not have money , get software cd from here ...\n",
              "...                                                 ...  ...                                                ...\n",
              "5723  re : research and development charges to gpg  ...  ...  re : research and development charge to gpg   ...\n",
              "5724  re : receipts from visit  jim ,  thanks again ...  ...  re : receipt from visit   jim ,   thank again ...\n",
              "5725  re : enron case study update  wow ! all on the...  ...  re : enron case study update   wow ! all on th...\n",
              "5726  re : interest  david ,  please , call shirley ...  ...  re : interest   david ,   please , call shirle...\n",
              "5727  news : aurora 5 . 2 update  aurora version 5 ....  ...  news : aurora 5 . 2 update   aurora version 5 ...\n",
              "\n",
              "[5728 rows x 3 columns]"
            ]
          },
          "metadata": {
            "tags": []
          }
        }
      ]
    },
    {
      "cell_type": "code",
      "metadata": {
        "id": "K4MpjFch8PrQ"
      },
      "source": [
        ""
      ],
      "execution_count": null,
      "outputs": []
    }
  ]
}