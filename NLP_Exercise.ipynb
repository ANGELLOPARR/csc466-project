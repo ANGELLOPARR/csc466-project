{
  "nbformat": 4,
  "nbformat_minor": 0,
  "metadata": {
    "colab": {
      "name": "Untitled",
      "provenance": [],
      "include_colab_link": true
    },
    "kernelspec": {
      "name": "python3",
      "display_name": "Python 3"
    },
    "language_info": {
      "name": "python"
    }
  },
  "cells": [
    {
      "cell_type": "markdown",
      "metadata": {
        "id": "view-in-github",
        "colab_type": "text"
      },
      "source": [
        "<a href=\"https://colab.research.google.com/github/ANGELLOPARR/csc466-project/blob/main/NLP_Exercise.ipynb\" target=\"_parent\"><img src=\"https://colab.research.google.com/assets/colab-badge.svg\" alt=\"Open In Colab\"/></a>"
      ]
    },
    {
      "cell_type": "code",
      "metadata": {
        "id": "Qnpl0yA5mnQU",
        "outputId": "1b7183a1-c68d-497f-c0a4-e74d339850ad",
        "colab": {
          "base_uri": "https://localhost:8080/"
        }
      },
      "source": [
        "import nltk\n",
        "nltk.download('punkt')\n",
        "from nltk.stem import PorterStemmer\n",
        "from nltk.tokenize import sent_tokenize, word_tokenize"
      ],
      "execution_count": 37,
      "outputs": [
        {
          "output_type": "stream",
          "text": [
            "[nltk_data] Downloading package punkt to /root/nltk_data...\n",
            "[nltk_data]   Unzipping tokenizers/punkt.zip.\n"
          ],
          "name": "stdout"
        }
      ]
    },
    {
      "cell_type": "code",
      "metadata": {
        "id": "RXuG7uxciWAy",
        "colab": {
          "base_uri": "https://localhost:8080/"
        },
        "outputId": "6c31a8c4-903e-4de2-e3de-3942f867ea49"
      },
      "source": [
        "!rm -r csc466-project\n",
        "!git clone https://github.com/ANGELLOPARR/csc466-project.git"
      ],
      "execution_count": 1,
      "outputs": [
        {
          "output_type": "stream",
          "text": [
            "rm: cannot remove 'csc466-project': No such file or directory\n",
            "Cloning into 'csc466-project'...\n",
            "remote: Enumerating objects: 68, done.\u001b[K\n",
            "remote: Counting objects: 100% (68/68), done.\u001b[K\n",
            "remote: Compressing objects: 100% (62/62), done.\u001b[K\n",
            "remote: Total 68 (delta 25), reused 25 (delta 4), pack-reused 0\u001b[K\n",
            "Unpacking objects: 100% (68/68), done.\n"
          ],
          "name": "stdout"
        }
      ]
    },
    {
      "cell_type": "code",
      "metadata": {
        "id": "CP0IrVG7i3Pr",
        "colab": {
          "base_uri": "https://localhost:8080/"
        },
        "outputId": "67e351aa-9d84-483b-bba9-3e3b1d8dfc18"
      },
      "source": [
        "!ls"
      ],
      "execution_count": null,
      "outputs": [
        {
          "output_type": "stream",
          "text": [
            "csc466-project\tsample_data\n"
          ],
          "name": "stdout"
        }
      ]
    },
    {
      "cell_type": "code",
      "metadata": {
        "id": "qISnP5cXbdTZ",
        "colab": {
          "base_uri": "https://localhost:8080/",
          "height": 137
        },
        "outputId": "925c2cb0-42b7-4e0d-c9e4-89b9ccfb5e0d"
      },
      "source": [
        "import numpy as np # linear algebra\n",
        "import pandas as pd # data processing, CSV file I/O (e.g. pd.read_csv)\n",
        "\n",
        "dataset = pd.read_csv(r'csc466-project/emails.csv')\n",
        "dataset .columns #Index(['text', 'spam'], dtype='object')\n",
        "dataset.shape  #(5728, 2)\n",
        "dataset.iloc[-1]['text']"
      ],
      "execution_count": 16,
      "outputs": [
        {
          "output_type": "execute_result",
          "data": {
            "application/vnd.google.colaboratory.intrinsic+json": {
              "type": "string"
            },
            "text/plain": [
              "'Subject: news : aurora 5 . 2 update  aurora version 5 . 2  - the fastest model just got faster -  epis announces the release of aurora , version 5 . 2  aurora the electric market price forecasting tool is already  legendary for power and speed . we \\' ve combined a powerful chronological  dispatch model with the capability to simulate the market from 1  day to 25 + years . add to that a risk analysis section , powered by user  selectable monte carlo & / or latin hypercube modeling , enough  portfolio analysis power to please the toughest critic , & inputs and  outputs from standard excel & access tables and you \\' ve got one of most  powerful tools in the market .  just a few months ago we expanded our emissions modeling  capabilities , added our quarterly database update , increased the speed  of the entire model , and made  but that wasn \\' t enough .  we \\' ve done it again . some of the operations that we \\' ve  included . . .  two new reporting enhancements .  the first is marginal reporting  for fuels , resources and groups of resources .  the second is the ability to  display resource stack information in graphical and dispatch order form .  other enhancements include dual fuel modeling , improved  transmission modeling , greater access to hourly results , and the ability  to model monthly emission rates . moreover , the databases for  central and eastern , texas , and western markets have been updated to use  the new modeling capabilities .  we continue to make aurora easier to use . this version enhances  user control over modeling , editing inputs , and viewing of aurora  output . clients desiring to exploit the power of aurora now have  greater control over the inputs and outputs through vb scripting in  aurora . the new \" update data \" capability provides a means to  universally change any data element .  attached is more information on the fastest and most flexible  tool of its kind .  for additional information , please visit our website ( www . epis . com ) or  contact our sales department at ( 503 ) 722 - 2023 . ask about our special  7 - day demo !  v . todd wheeler  sales manager  epis , inc .  ( 503 ) 722 - 2023 tel .  ( 503 ) 722 - 7130 fax  www . epis . com  todd @ epis . com  > >  - what \\' s new - version 5 . 2 information . doc  - technical information aurora v 5 - 2 . doc'"
            ]
          },
          "metadata": {
            "tags": []
          },
          "execution_count": 16
        }
      ]
    },
    {
      "cell_type": "markdown",
      "metadata": {
        "id": "CTuYpAqBlJxO"
      },
      "source": [
        "Data cleanup"
      ]
    },
    {
      "cell_type": "code",
      "metadata": {
        "id": "A6XgbIR-kxZf",
        "outputId": "84fea58b-11e7-4a23-8ea5-ea022b252201",
        "colab": {
          "base_uri": "https://localhost:8080/",
          "height": 419
        }
      },
      "source": [
        "dataset['text'] = dataset['text'].str.replace('Subject: ', '')\n",
        "dataset"
      ],
      "execution_count": 18,
      "outputs": [
        {
          "output_type": "execute_result",
          "data": {
            "text/html": [
              "<div>\n",
              "<style scoped>\n",
              "    .dataframe tbody tr th:only-of-type {\n",
              "        vertical-align: middle;\n",
              "    }\n",
              "\n",
              "    .dataframe tbody tr th {\n",
              "        vertical-align: top;\n",
              "    }\n",
              "\n",
              "    .dataframe thead th {\n",
              "        text-align: right;\n",
              "    }\n",
              "</style>\n",
              "<table border=\"1\" class=\"dataframe\">\n",
              "  <thead>\n",
              "    <tr style=\"text-align: right;\">\n",
              "      <th></th>\n",
              "      <th>text</th>\n",
              "      <th>spam</th>\n",
              "    </tr>\n",
              "  </thead>\n",
              "  <tbody>\n",
              "    <tr>\n",
              "      <th>0</th>\n",
              "      <td>naturally irresistible your corporate identity...</td>\n",
              "      <td>1</td>\n",
              "    </tr>\n",
              "    <tr>\n",
              "      <th>1</th>\n",
              "      <td>the stock trading gunslinger  fanny is merrill...</td>\n",
              "      <td>1</td>\n",
              "    </tr>\n",
              "    <tr>\n",
              "      <th>2</th>\n",
              "      <td>unbelievable new homes made easy  im wanting t...</td>\n",
              "      <td>1</td>\n",
              "    </tr>\n",
              "    <tr>\n",
              "      <th>3</th>\n",
              "      <td>4 color printing special  request additional i...</td>\n",
              "      <td>1</td>\n",
              "    </tr>\n",
              "    <tr>\n",
              "      <th>4</th>\n",
              "      <td>do not have money , get software cds from here...</td>\n",
              "      <td>1</td>\n",
              "    </tr>\n",
              "    <tr>\n",
              "      <th>...</th>\n",
              "      <td>...</td>\n",
              "      <td>...</td>\n",
              "    </tr>\n",
              "    <tr>\n",
              "      <th>5723</th>\n",
              "      <td>re : research and development charges to gpg  ...</td>\n",
              "      <td>0</td>\n",
              "    </tr>\n",
              "    <tr>\n",
              "      <th>5724</th>\n",
              "      <td>re : receipts from visit  jim ,  thanks again ...</td>\n",
              "      <td>0</td>\n",
              "    </tr>\n",
              "    <tr>\n",
              "      <th>5725</th>\n",
              "      <td>re : enron case study update  wow ! all on the...</td>\n",
              "      <td>0</td>\n",
              "    </tr>\n",
              "    <tr>\n",
              "      <th>5726</th>\n",
              "      <td>re : interest  david ,  please , call shirley ...</td>\n",
              "      <td>0</td>\n",
              "    </tr>\n",
              "    <tr>\n",
              "      <th>5727</th>\n",
              "      <td>news : aurora 5 . 2 update  aurora version 5 ....</td>\n",
              "      <td>0</td>\n",
              "    </tr>\n",
              "  </tbody>\n",
              "</table>\n",
              "<p>5728 rows × 2 columns</p>\n",
              "</div>"
            ],
            "text/plain": [
              "                                                   text  spam\n",
              "0     naturally irresistible your corporate identity...     1\n",
              "1     the stock trading gunslinger  fanny is merrill...     1\n",
              "2     unbelievable new homes made easy  im wanting t...     1\n",
              "3     4 color printing special  request additional i...     1\n",
              "4     do not have money , get software cds from here...     1\n",
              "...                                                 ...   ...\n",
              "5723  re : research and development charges to gpg  ...     0\n",
              "5724  re : receipts from visit  jim ,  thanks again ...     0\n",
              "5725  re : enron case study update  wow ! all on the...     0\n",
              "5726  re : interest  david ,  please , call shirley ...     0\n",
              "5727  news : aurora 5 . 2 update  aurora version 5 ....     0\n",
              "\n",
              "[5728 rows x 2 columns]"
            ]
          },
          "metadata": {
            "tags": []
          },
          "execution_count": 18
        }
      ]
    },
    {
      "cell_type": "code",
      "metadata": {
        "id": "ZZYvrzyRmtMr"
      },
      "source": [
        "def stem_text(text):\n",
        "    stemmer = PorterStemmer()\n",
        "    tokenized = nltk.word_tokenize(text)\n",
        "    stemmed = [stemmer.stem(word) for word in tokenized]\n",
        "    return stemmed"
      ],
      "execution_count": 41,
      "outputs": []
    },
    {
      "cell_type": "code",
      "metadata": {
        "id": "MYsiVIqBlvJw",
        "outputId": "6bd61513-de45-4ee6-e0f0-52c2fa9f63e9",
        "colab": {
          "base_uri": "https://localhost:8080/"
        }
      },
      "source": [
        "stem_text(dataset.iloc[0]['text'])"
      ],
      "execution_count": 42,
      "outputs": [
        {
          "output_type": "stream",
          "text": [
            "['natur', 'irresist', 'your', 'corpor', 'ident', 'lt', 'is', 'realli', 'hard', 'to', 'recollect', 'a', 'compani', ':', 'the', 'market', 'is', 'full', 'of', 'suqgest', 'and', 'the', 'inform', 'isoverwhelminq', ';', 'but', 'a', 'good', 'catchi', 'logo', ',', 'stylish', 'statloneri', 'and', 'outstand', 'websit', 'will', 'make', 'the', 'task', 'much', 'easier', '.', 'we', 'do', 'not', 'promis', 'that', 'havinq', 'order', 'a', 'iogo', 'your', 'compani', 'will', 'automaticaili', 'becom', 'a', 'world', 'ieader', ':', 'it', 'isguit', 'ciear', 'that', 'without', 'good', 'product', ',', 'effect', 'busi', 'organ', 'and', 'practic', 'aim', 'it', 'will', 'be', 'hotat', 'nowaday', 'market', ';', 'but', 'we', 'do', 'promis', 'that', 'your', 'market', 'effort', 'will', 'becom', 'much', 'more', 'effect', '.', 'here', 'is', 'the', 'list', 'of', 'clear', 'benefit', ':', 'creativ', ':', 'hand', '-', 'made', ',', 'origin', 'logo', ',', 'special', 'done', 'to', 'reflect', 'your', 'distinct', 'compani', 'imag', '.', 'conveni', ':', 'logo', 'and', 'stationeri', 'are', 'provid', 'in', 'all', 'format', ';', 'easi', '-', 'to', '-', 'use', 'content', 'manag', 'system', 'letsyou', 'chang', 'your', 'websit', 'content', 'and', 'even', 'it', 'structur', '.', 'prompt', ':', 'you', 'will', 'see', 'logo', 'draft', 'within', 'three', 'busi', 'day', '.', 'afford', ':', 'your', 'market', 'break', '-', 'through', 'shouldn', \"'\", 't', 'make', 'gap', 'in', 'your', 'budget', '.', '100', '%', 'satisfact', 'guarante', ':', 'we', 'provid', 'unlimit', 'amount', 'of', 'chang', 'with', 'no', 'extra', 'fee', 'for', 'you', 'to', 'be', 'surethat', 'you', 'will', 'love', 'the', 'result', 'of', 'thi', 'collabor', '.', 'have', 'a', 'look', 'at', 'our', 'portfolio', '_', '_', '_', '_', '_', '_', '_', '_', '_', '_', '_', '_', '_', '_', '_', '_', '_', '_', '_', '_', '_', '_', '_', '_', '_', '_', '_', '_', '_', '_', '_', '_', '_', '_', '_', '_', '_', '_', '_', '_', '_', '_', '_', '_', '_', '_', '_', '_', '_', '_', '_', '_', 'not', 'interest', '.', '.', '.', '_', '_', '_', '_', '_', '_', '_', '_', '_', '_', '_', '_', '_', '_', '_', '_', '_', '_', '_', '_', '_', '_', '_', '_', '_', '_', '_', '_', '_', '_', '_', '_', '_', '_', '_', '_', '_', '_', '_', '_', '_', '_', '_', '_', '_', '_', '_', '_', '_', '_', '_', '_']\n"
          ],
          "name": "stdout"
        }
      ]
    },
    {
      "cell_type": "code",
      "metadata": {
        "id": "Fl4sVRzLoBvL"
      },
      "source": [
        ""
      ],
      "execution_count": null,
      "outputs": []
    }
  ]
}